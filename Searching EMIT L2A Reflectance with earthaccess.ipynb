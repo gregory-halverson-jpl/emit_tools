{
 "cells": [
  {
   "cell_type": "code",
   "execution_count": 5,
   "metadata": {},
   "outputs": [],
   "source": [
    "from typing import Union\n",
    "from datetime import datetime, date, time\n",
    "from dateutil import parser\n",
    "import earthaccess\n",
    "from emit_tools.constants import EMIT_L2A_REFLECTANCE_CONCEPT_ID, CMR_DATETIME_FORMAT"
   ]
  },
  {
   "cell_type": "code",
   "execution_count": 2,
   "metadata": {},
   "outputs": [
    {
     "data": {
      "text/plain": [
       "'%Y-%m-%dT%H:%M:%SZ'"
      ]
     },
     "execution_count": 2,
     "metadata": {},
     "output_type": "execute_result"
    }
   ],
   "source": [
    "CMR_DATETIME_FORMAT"
   ]
  },
  {
   "cell_type": "code",
   "execution_count": 4,
   "metadata": {},
   "outputs": [
    {
     "name": "stdout",
     "output_type": "stream",
     "text": [
      "2022-09-03T00:00:00Z,2022-09-03T23:23:59Z\n"
     ]
    }
   ],
   "source": [
    "# Temporal Bound - Year, month, day. Hour, minutes, and seconds (ZULU) can also be included \n",
    "start_date = datetime(2022, 9, 3)\n",
    "end_date = datetime(2022, 9, 3, 23, 23, 59)  \n",
    "\n",
    "# CMR formatted start and end times\n",
    "# dt_format = '%Y-%m-%dT%H:%M:%SZ'\n",
    "temporal_str = start_date.strftime(CMR_DATETIME_FORMAT) + ',' + end_date.strftime(CMR_DATETIME_FORMAT)\n",
    "print(temporal_str)"
   ]
  },
  {
   "cell_type": "code",
   "execution_count": null,
   "metadata": {},
   "outputs": [],
   "source": [
    "def generate_CMR_daterange_string(start_date: Union[date, str], end_date: Union[date, str]) -> str:\n",
    "    if isinstance(start_date, str):\n",
    "        start_date = parser.parse(start_date)\n",
    "\n",
    "    if isinstance(end_date, str):\n",
    "        end_date = parser.parse(end_date)\n",
    "\n",
    "    start_time = datetime.combine(start_date, time(0, 0, 0))\n",
    "    end_time = datetime.combine(end_date, time(23, 59, 59))\n",
    "    CMR_daterange_string = start_time.strftime(CMR_DATETIME_FORMAT) + ',' + end_time.strftime(CMR_DATETIME_FORMAT)\n",
    "\n",
    "    return CMR_daterange_string"
   ]
  }
 ],
 "metadata": {
  "kernelspec": {
   "display_name": "base",
   "language": "python",
   "name": "python3"
  },
  "language_info": {
   "codemirror_mode": {
    "name": "ipython",
    "version": 3
   },
   "file_extension": ".py",
   "mimetype": "text/x-python",
   "name": "python",
   "nbconvert_exporter": "python",
   "pygments_lexer": "ipython3",
   "version": "3.11.9"
  }
 },
 "nbformat": 4,
 "nbformat_minor": 2
}
