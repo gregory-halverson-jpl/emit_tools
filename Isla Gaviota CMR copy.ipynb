{
 "cells": [
  {
   "cell_type": "code",
   "execution_count": 6,
   "metadata": {
    "tags": []
   },
   "outputs": [],
   "source": [
    "import os\n",
    "import requests\n",
    "import earthaccess\n",
    "import pandas as pd\n",
    "import datetime as dt\n",
    "import geopandas\n",
    "from shapely.geometry import MultiPolygon, Polygon, box\n",
    "from shapely.geometry.polygon import orient"
   ]
  },
  {
   "cell_type": "code",
   "execution_count": 2,
   "metadata": {},
   "outputs": [],
   "source": [
    "geojson_filename = \"11SPS.geojson\""
   ]
  },
  {
   "cell_type": "code",
   "execution_count": 3,
   "metadata": {
    "tags": []
   },
   "outputs": [
    {
     "name": "stdout",
     "output_type": "stream",
     "text": [
      "C2408750690-LPCLOUD\n"
     ]
    }
   ],
   "source": [
    "doi = '10.5067/EMIT/EMITL2ARFL.001'# EMIT L2A Reflectance\n",
    "\n",
    "# CMR API base url\n",
    "cmrurl='https://cmr.earthdata.nasa.gov/search/' \n",
    "\n",
    "doisearch = cmrurl + 'collections.json?doi=' + doi\n",
    "concept_id = requests.get(doisearch).json()['feed']['entry'][0]['id']\n",
    "print(concept_id)"
   ]
  },
  {
   "cell_type": "code",
   "execution_count": 15,
   "metadata": {
    "tags": []
   },
   "outputs": [
    {
     "name": "stdout",
     "output_type": "stream",
     "text": [
      "2024-05-01T00:00:00Z,2024-05-30T23:23:59Z\n"
     ]
    }
   ],
   "source": [
    "# Temporal Bound - Year, month, day. Hour, minutes, and seconds (ZULU) can also be included \n",
    "start_date = dt.datetime(2024, 5, 1)\n",
    "end_date = dt.datetime(2024, 5, 30, 23, 23, 59)  \n",
    "\n",
    "# CMR formatted start and end times\n",
    "dt_format = '%Y-%m-%dT%H:%M:%SZ'\n",
    "temporal_str = start_date.strftime(dt_format) + ',' + end_date.strftime(dt_format)\n",
    "print(temporal_str)"
   ]
  },
  {
   "cell_type": "code",
   "execution_count": 16,
   "metadata": {},
   "outputs": [
    {
     "data": {
      "text/html": [
       "<div>\n",
       "<style scoped>\n",
       "    .dataframe tbody tr th:only-of-type {\n",
       "        vertical-align: middle;\n",
       "    }\n",
       "\n",
       "    .dataframe tbody tr th {\n",
       "        vertical-align: top;\n",
       "    }\n",
       "\n",
       "    .dataframe thead th {\n",
       "        text-align: right;\n",
       "    }\n",
       "</style>\n",
       "<table border=\"1\" class=\"dataframe\">\n",
       "  <thead>\n",
       "    <tr style=\"text-align: right;\">\n",
       "      <th></th>\n",
       "      <th>Name</th>\n",
       "      <th>Land</th>\n",
       "      <th>geometry</th>\n",
       "    </tr>\n",
       "  </thead>\n",
       "  <tbody>\n",
       "    <tr>\n",
       "      <th>0</th>\n",
       "      <td>11SPS</td>\n",
       "      <td>True</td>\n",
       "      <td>POLYGON Z ((-115.92423 33.43491 0, -114.74363 ...</td>\n",
       "    </tr>\n",
       "  </tbody>\n",
       "</table>\n",
       "</div>"
      ],
      "text/plain": [
       "    Name  Land                                           geometry\n",
       "0  11SPS  True  POLYGON Z ((-115.92423 33.43491 0, -114.74363 ..."
      ]
     },
     "execution_count": 16,
     "metadata": {},
     "output_type": "execute_result"
    }
   ],
   "source": [
    "polygon = geopandas.read_file(geojson_filename)\n",
    "polygon"
   ]
  },
  {
   "cell_type": "code",
   "execution_count": 17,
   "metadata": {},
   "outputs": [
    {
     "data": {
      "text/html": [
       "<div>\n",
       "<style scoped>\n",
       "    .dataframe tbody tr th:only-of-type {\n",
       "        vertical-align: middle;\n",
       "    }\n",
       "\n",
       "    .dataframe tbody tr th {\n",
       "        vertical-align: top;\n",
       "    }\n",
       "\n",
       "    .dataframe thead th {\n",
       "        text-align: right;\n",
       "    }\n",
       "</style>\n",
       "<table border=\"1\" class=\"dataframe\">\n",
       "  <thead>\n",
       "    <tr style=\"text-align: right;\">\n",
       "      <th></th>\n",
       "      <th>Name</th>\n",
       "      <th>Land</th>\n",
       "      <th>geometry</th>\n",
       "    </tr>\n",
       "  </thead>\n",
       "  <tbody>\n",
       "    <tr>\n",
       "      <th>0</th>\n",
       "      <td>11SPS</td>\n",
       "      <td>True</td>\n",
       "      <td>POLYGON Z ((-115.92423 33.43491 0, -115.93616 ...</td>\n",
       "    </tr>\n",
       "  </tbody>\n",
       "</table>\n",
       "</div>"
      ],
      "text/plain": [
       "    Name  Land                                           geometry\n",
       "0  11SPS  True  POLYGON Z ((-115.92423 33.43491 0, -115.93616 ..."
      ]
     },
     "execution_count": 17,
     "metadata": {},
     "output_type": "execute_result"
    }
   ],
   "source": [
    "polygon.loc[0, \"geometry\"] = orient(polygon.geometry[0], sign=1.0)\n",
    "polygon"
   ]
  },
  {
   "cell_type": "code",
   "execution_count": 18,
   "metadata": {},
   "outputs": [
    {
     "data": {
      "text/plain": [
       "{'shapefile': ('11SPS.geojson',\n",
       "  '{\"type\": \"FeatureCollection\", \"features\": [{\"id\": \"0\", \"type\": \"Feature\", \"properties\": {}, \"geometry\": {\"type\": \"Polygon\", \"coordinates\": [[[-115.92423373599996, 33.43490918800006, 0.0], [-115.93615876899997, 32.444635394000045, 0.0], [-114.76862412, 32.429359161000036, 0.0], [-114.74363157999994, 33.419046707000064, 0.0], [-115.92423373599996, 33.43490918800006, 0.0]]]}, \"bbox\": [-115.93615876899997, 32.429359161000036, -114.74363157999994, 33.43490918800006]}], \"bbox\": [-115.93615876899997, 32.429359161000036, -114.74363157999994, 33.43490918800006]}',\n",
       "  'application/geo+json')}"
      ]
     },
     "execution_count": 18,
     "metadata": {},
     "output_type": "execute_result"
    }
   ],
   "source": [
    "geojson = {\"shapefile\": (geojson_filename, polygon.geometry.to_json(), \"application/geo+json\")}\n",
    "geojson"
   ]
  },
  {
   "cell_type": "code",
   "execution_count": 19,
   "metadata": {
    "tags": []
   },
   "outputs": [
    {
     "name": "stdout",
     "output_type": "stream",
     "text": [
      "<Response [200]>\n",
      "{'feed': {'updated': '2024-08-23T01:28:13.025Z', 'id': 'https://cmr.earthdata.nasa.gov:443/search/granules.json', 'title': 'ECHO granule metadata', 'entry': [{'time_start': '2024-05-21T23:27:16.000Z', 'cloud_cover': '30', 'updated': '2024-05-23T23:03:47.000Z', 'dataset_id': 'EMIT L2A Estimated Surface Reflectance and Uncertainty and Masks 60 m V001', 'data_center': 'LPCLOUD', 'title': 'EMIT_L2A_RFL_001_20240521T232716_2414216_002', 'coordinate_system': 'GEODETIC', 'day_night_flag': 'DAY', 'time_end': '2024-05-21T23:27:28.000Z', 'id': 'G3029286621-LPCLOUD', 'original_format': 'UMM_JSON', 'granule_size': '3579.7861518859863', 'browse_flag': True, 'polygons': [['33.5352974 -115.9862595 32.9145088 -116.7228775 32.3046684 -116.208931 32.925457 -115.4723129 33.5352974 -115.9862595']], 'collection_concept_id': 'C2408750690-LPCLOUD', 'online_access_flag': True, 'links': [{'rel': 'http://esipfed.org/ns/fedsearch/1.1/data#', 'title': 'Download EMIT_L2A_RFL_001_20240521T232716_2414216_002.nc', 'hreflang': 'en-US', 'href': 'https://data.lpdaac.earthdatacloud.nasa.gov/lp-prod-protected/EMITL2ARFL.001/EMIT_L2A_RFL_001_20240521T232716_2414216_002/EMIT_L2A_RFL_001_20240521T232716_2414216_002.nc'}, {'rel': 'http://esipfed.org/ns/fedsearch/1.1/s3#', 'title': 'This link provides direct download access via S3 to the granule', 'hreflang': 'en-US', 'href': 's3://lp-prod-protected/EMITL2ARFL.001/EMIT_L2A_RFL_001_20240521T232716_2414216_002/EMIT_L2A_RFL_001_20240521T232716_2414216_002.nc'}, {'rel': 'http://esipfed.org/ns/fedsearch/1.1/data#', 'title': 'Download EMIT_L2A_RFLUNCERT_001_20240521T232716_2414216_002.nc', 'hreflang': 'en-US', 'href': 'https://data.lpdaac.earthdatacloud.nasa.gov/lp-prod-protected/EMITL2ARFL.001/EMIT_L2A_RFL_001_20240521T232716_2414216_002/EMIT_L2A_RFLUNCERT_001_20240521T232716_2414216_002.nc'}, {'rel': 'http://esipfed.org/ns/fedsearch/1.1/s3#', 'title': 'This link provides direct download access via S3 to the granule', 'hreflang': 'en-US', 'href': 's3://lp-prod-protected/EMITL2ARFL.001/EMIT_L2A_RFL_001_20240521T232716_2414216_002/EMIT_L2A_RFLUNCERT_001_20240521T232716_2414216_002.nc'}, {'rel': 'http://esipfed.org/ns/fedsearch/1.1/data#', 'title': 'Download EMIT_L2A_MASK_001_20240521T232716_2414216_002.nc', 'hreflang': 'en-US', 'href': 'https://data.lpdaac.earthdatacloud.nasa.gov/lp-prod-protected/EMITL2ARFL.001/EMIT_L2A_RFL_001_20240521T232716_2414216_002/EMIT_L2A_MASK_001_20240521T232716_2414216_002.nc'}, {'rel': 'http://esipfed.org/ns/fedsearch/1.1/s3#', 'title': 'This link provides direct download access via S3 to the granule', 'hreflang': 'en-US', 'href': 's3://lp-prod-protected/EMITL2ARFL.001/EMIT_L2A_RFL_001_20240521T232716_2414216_002/EMIT_L2A_MASK_001_20240521T232716_2414216_002.nc'}, {'rel': 'http://esipfed.org/ns/fedsearch/1.1/browse#', 'title': 'Download EMIT_L2A_RFL_001_20240521T232716_2414216_002.png', 'hreflang': 'en-US', 'href': 'https://data.lpdaac.earthdatacloud.nasa.gov/lp-prod-public/EMITL2ARFL.001/EMIT_L2A_RFL_001_20240521T232716_2414216_002/EMIT_L2A_RFL_001_20240521T232716_2414216_002.png'}, {'rel': 'http://esipfed.org/ns/fedsearch/1.1/browse#', 'title': 'This link provides direct download access via S3 to the granule', 'hreflang': 'en-US', 'href': 's3://lp-prod-public/EMITL2ARFL.001/EMIT_L2A_RFL_001_20240521T232716_2414216_002/EMIT_L2A_RFL_001_20240521T232716_2414216_002.png'}, {'rel': 'http://esipfed.org/ns/fedsearch/1.1/metadata#', 'title': 'Download EMIT_L2A_RFL_001_20240521T232716_2414216_002.cmr.json', 'hreflang': 'en-US', 'href': 'https://data.lpdaac.earthdatacloud.nasa.gov/lp-prod-protected/EMITL2ARFL.001/EMIT_L2A_RFL_001_20240521T232716_2414216_002/EMIT_L2A_RFL_001_20240521T232716_2414216_002.cmr.json'}, {'rel': 'http://esipfed.org/ns/fedsearch/1.1/metadata#', 'title': 'This link provides direct download access via S3 to the granule', 'hreflang': 'en-US', 'href': 's3://lp-prod-protected/EMITL2ARFL.001/EMIT_L2A_RFL_001_20240521T232716_2414216_002/EMIT_L2A_RFL_001_20240521T232716_2414216_002.cmr.json'}, {'rel': 'http://esipfed.org/ns/fedsearch/1.1/metadata#', 'title': 'api endpoint to retrieve temporary credentials valid for same-region direct s3 access', 'hreflang': 'en-US', 'href': 'https://data.lpdaac.earthdatacloud.nasa.gov/s3credentials'}, {'inherited': True, 'rel': 'http://esipfed.org/ns/fedsearch/1.1/metadata#', 'hreflang': 'en-US', 'href': 'https://earth.jpl.nasa.gov/emit/'}, {'inherited': True, 'rel': 'http://esipfed.org/ns/fedsearch/1.1/metadata#', 'hreflang': 'en-US', 'href': 'https://lpdaac.usgs.gov/'}, {'inherited': True, 'rel': 'http://esipfed.org/ns/fedsearch/1.1/metadata#', 'hreflang': 'en-US', 'href': 'https://doi.org/10.5067/EMIT/EMITL2ARFL.001'}, {'inherited': True, 'rel': 'http://esipfed.org/ns/fedsearch/1.1/documentation#', 'hreflang': 'en-US', 'href': 'https://lpdaac.usgs.gov/documents/1571/EMITL2A_ATBD_v1.pdf'}, {'inherited': True, 'rel': 'http://esipfed.org/ns/fedsearch/1.1/documentation#', 'hreflang': 'en-US', 'href': 'https://lpdaac.usgs.gov/documents/1569/EMITL2ARFL_User_Guide_v1.pdf'}, {'inherited': True, 'rel': 'http://esipfed.org/ns/fedsearch/1.1/documentation#', 'hreflang': 'en-US', 'href': 'https://github.com/emit-sds/emit-sds-l2a'}, {'inherited': True, 'length': '1.8GB', 'rel': 'http://esipfed.org/ns/fedsearch/1.1/data#', 'hreflang': 'en-US', 'href': 'https://search.earthdata.nasa.gov/search/granules?p=C2408750690-LPCLOUD'}, {'inherited': True, 'rel': 'http://esipfed.org/ns/fedsearch/1.1/documentation#', 'hreflang': 'en-US', 'href': 'https://git.earthdata.nasa.gov/projects/LPDUR/repos/emit_tutorials/browse/01_Exploring_L2A_Reflectance'}, {'inherited': True, 'rel': 'http://esipfed.org/ns/fedsearch/1.1/documentation#', 'hreflang': 'en-US', 'href': 'https://www.youtube.com/playlist?list=PLO2yB4LGNlWrC5NdxeHMxyAxdwQhSypXe'}, {'inherited': True, 'rel': 'http://esipfed.org/ns/fedsearch/1.1/documentation#', 'hreflang': 'en-US', 'href': 'https://github.com/nasa/EMIT-Data-Resources'}, {'inherited': True, 'rel': 'http://esipfed.org/ns/fedsearch/1.1/documentation#', 'hreflang': 'en-US', 'href': 'https://lpdaac.usgs.gov/search/?query=EMIT&content_types=E-Learning&view=cards&sort=relevance'}, {'inherited': True, 'rel': 'http://esipfed.org/ns/fedsearch/1.1/data#', 'hreflang': 'en-US', 'href': 'https://appeears.earthdatacloud.nasa.gov/'}]}, {'time_start': '2024-05-21T23:27:28.000Z', 'cloud_cover': '20', 'updated': '2024-05-23T22:58:24.000Z', 'dataset_id': 'EMIT L2A Estimated Surface Reflectance and Uncertainty and Masks 60 m V001', 'data_center': 'LPCLOUD', 'title': 'EMIT_L2A_RFL_001_20240521T232728_2414216_003', 'coordinate_system': 'GEODETIC', 'day_night_flag': 'DAY', 'time_end': '2024-05-21T23:27:40.000Z', 'id': 'G3029272668-LPCLOUD', 'original_format': 'UMM_JSON', 'granule_size': '3579.7054710388184', 'browse_flag': True, 'polygons': [['34.0547523 -115.3462372 33.4353065 -116.1037445 32.8195534 -115.6002197 33.4389992 -114.8427124 34.0547523 -115.3462372']], 'collection_concept_id': 'C2408750690-LPCLOUD', 'online_access_flag': True, 'links': [{'rel': 'http://esipfed.org/ns/fedsearch/1.1/data#', 'title': 'Download EMIT_L2A_RFL_001_20240521T232728_2414216_003.nc', 'hreflang': 'en-US', 'href': 'https://data.lpdaac.earthdatacloud.nasa.gov/lp-prod-protected/EMITL2ARFL.001/EMIT_L2A_RFL_001_20240521T232728_2414216_003/EMIT_L2A_RFL_001_20240521T232728_2414216_003.nc'}, {'rel': 'http://esipfed.org/ns/fedsearch/1.1/s3#', 'title': 'This link provides direct download access via S3 to the granule', 'hreflang': 'en-US', 'href': 's3://lp-prod-protected/EMITL2ARFL.001/EMIT_L2A_RFL_001_20240521T232728_2414216_003/EMIT_L2A_RFL_001_20240521T232728_2414216_003.nc'}, {'rel': 'http://esipfed.org/ns/fedsearch/1.1/data#', 'title': 'Download EMIT_L2A_RFLUNCERT_001_20240521T232728_2414216_003.nc', 'hreflang': 'en-US', 'href': 'https://data.lpdaac.earthdatacloud.nasa.gov/lp-prod-protected/EMITL2ARFL.001/EMIT_L2A_RFL_001_20240521T232728_2414216_003/EMIT_L2A_RFLUNCERT_001_20240521T232728_2414216_003.nc'}, {'rel': 'http://esipfed.org/ns/fedsearch/1.1/s3#', 'title': 'This link provides direct download access via S3 to the granule', 'hreflang': 'en-US', 'href': 's3://lp-prod-protected/EMITL2ARFL.001/EMIT_L2A_RFL_001_20240521T232728_2414216_003/EMIT_L2A_RFLUNCERT_001_20240521T232728_2414216_003.nc'}, {'rel': 'http://esipfed.org/ns/fedsearch/1.1/data#', 'title': 'Download EMIT_L2A_MASK_001_20240521T232728_2414216_003.nc', 'hreflang': 'en-US', 'href': 'https://data.lpdaac.earthdatacloud.nasa.gov/lp-prod-protected/EMITL2ARFL.001/EMIT_L2A_RFL_001_20240521T232728_2414216_003/EMIT_L2A_MASK_001_20240521T232728_2414216_003.nc'}, {'rel': 'http://esipfed.org/ns/fedsearch/1.1/s3#', 'title': 'This link provides direct download access via S3 to the granule', 'hreflang': 'en-US', 'href': 's3://lp-prod-protected/EMITL2ARFL.001/EMIT_L2A_RFL_001_20240521T232728_2414216_003/EMIT_L2A_MASK_001_20240521T232728_2414216_003.nc'}, {'rel': 'http://esipfed.org/ns/fedsearch/1.1/browse#', 'title': 'Download EMIT_L2A_RFL_001_20240521T232728_2414216_003.png', 'hreflang': 'en-US', 'href': 'https://data.lpdaac.earthdatacloud.nasa.gov/lp-prod-public/EMITL2ARFL.001/EMIT_L2A_RFL_001_20240521T232728_2414216_003/EMIT_L2A_RFL_001_20240521T232728_2414216_003.png'}, {'rel': 'http://esipfed.org/ns/fedsearch/1.1/browse#', 'title': 'This link provides direct download access via S3 to the granule', 'hreflang': 'en-US', 'href': 's3://lp-prod-public/EMITL2ARFL.001/EMIT_L2A_RFL_001_20240521T232728_2414216_003/EMIT_L2A_RFL_001_20240521T232728_2414216_003.png'}, {'rel': 'http://esipfed.org/ns/fedsearch/1.1/metadata#', 'title': 'Download EMIT_L2A_RFL_001_20240521T232728_2414216_003.cmr.json', 'hreflang': 'en-US', 'href': 'https://data.lpdaac.earthdatacloud.nasa.gov/lp-prod-protected/EMITL2ARFL.001/EMIT_L2A_RFL_001_20240521T232728_2414216_003/EMIT_L2A_RFL_001_20240521T232728_2414216_003.cmr.json'}, {'rel': 'http://esipfed.org/ns/fedsearch/1.1/metadata#', 'title': 'This link provides direct download access via S3 to the granule', 'hreflang': 'en-US', 'href': 's3://lp-prod-protected/EMITL2ARFL.001/EMIT_L2A_RFL_001_20240521T232728_2414216_003/EMIT_L2A_RFL_001_20240521T232728_2414216_003.cmr.json'}, {'rel': 'http://esipfed.org/ns/fedsearch/1.1/metadata#', 'title': 'api endpoint to retrieve temporary credentials valid for same-region direct s3 access', 'hreflang': 'en-US', 'href': 'https://data.lpdaac.earthdatacloud.nasa.gov/s3credentials'}, {'inherited': True, 'rel': 'http://esipfed.org/ns/fedsearch/1.1/metadata#', 'hreflang': 'en-US', 'href': 'https://earth.jpl.nasa.gov/emit/'}, {'inherited': True, 'rel': 'http://esipfed.org/ns/fedsearch/1.1/metadata#', 'hreflang': 'en-US', 'href': 'https://lpdaac.usgs.gov/'}, {'inherited': True, 'rel': 'http://esipfed.org/ns/fedsearch/1.1/metadata#', 'hreflang': 'en-US', 'href': 'https://doi.org/10.5067/EMIT/EMITL2ARFL.001'}, {'inherited': True, 'rel': 'http://esipfed.org/ns/fedsearch/1.1/documentation#', 'hreflang': 'en-US', 'href': 'https://lpdaac.usgs.gov/documents/1571/EMITL2A_ATBD_v1.pdf'}, {'inherited': True, 'rel': 'http://esipfed.org/ns/fedsearch/1.1/documentation#', 'hreflang': 'en-US', 'href': 'https://lpdaac.usgs.gov/documents/1569/EMITL2ARFL_User_Guide_v1.pdf'}, {'inherited': True, 'rel': 'http://esipfed.org/ns/fedsearch/1.1/documentation#', 'hreflang': 'en-US', 'href': 'https://github.com/emit-sds/emit-sds-l2a'}, {'inherited': True, 'length': '1.8GB', 'rel': 'http://esipfed.org/ns/fedsearch/1.1/data#', 'hreflang': 'en-US', 'href': 'https://search.earthdata.nasa.gov/search/granules?p=C2408750690-LPCLOUD'}, {'inherited': True, 'rel': 'http://esipfed.org/ns/fedsearch/1.1/documentation#', 'hreflang': 'en-US', 'href': 'https://git.earthdata.nasa.gov/projects/LPDUR/repos/emit_tutorials/browse/01_Exploring_L2A_Reflectance'}, {'inherited': True, 'rel': 'http://esipfed.org/ns/fedsearch/1.1/documentation#', 'hreflang': 'en-US', 'href': 'https://www.youtube.com/playlist?list=PLO2yB4LGNlWrC5NdxeHMxyAxdwQhSypXe'}, {'inherited': True, 'rel': 'http://esipfed.org/ns/fedsearch/1.1/documentation#', 'hreflang': 'en-US', 'href': 'https://github.com/nasa/EMIT-Data-Resources'}, {'inherited': True, 'rel': 'http://esipfed.org/ns/fedsearch/1.1/documentation#', 'hreflang': 'en-US', 'href': 'https://lpdaac.usgs.gov/search/?query=EMIT&content_types=E-Learning&view=cards&sort=relevance'}, {'inherited': True, 'rel': 'http://esipfed.org/ns/fedsearch/1.1/data#', 'hreflang': 'en-US', 'href': 'https://appeears.earthdatacloud.nasa.gov/'}]}, {'time_start': '2024-05-21T23:27:40.000Z', 'cloud_cover': '8', 'updated': '2024-05-23T23:06:49.000Z', 'dataset_id': 'EMIT L2A Estimated Surface Reflectance and Uncertainty and Masks 60 m V001', 'data_center': 'LPCLOUD', 'title': 'EMIT_L2A_RFL_001_20240521T232740_2414216_004', 'coordinate_system': 'GEODETIC', 'day_night_flag': 'DAY', 'time_end': '2024-05-21T23:27:52.000Z', 'id': 'G3029292024-LPCLOUD', 'original_format': 'UMM_JSON', 'granule_size': '3579.2659702301025', 'browse_flag': True, 'polygons': [['34.5700073 -114.7049332 33.9517365 -115.4730301 33.3300171 -114.9725876 33.948288 -114.2044907 34.5700073 -114.7049332']], 'collection_concept_id': 'C2408750690-LPCLOUD', 'online_access_flag': True, 'links': [{'rel': 'http://esipfed.org/ns/fedsearch/1.1/data#', 'title': 'Download EMIT_L2A_RFL_001_20240521T232740_2414216_004.nc', 'hreflang': 'en-US', 'href': 'https://data.lpdaac.earthdatacloud.nasa.gov/lp-prod-protected/EMITL2ARFL.001/EMIT_L2A_RFL_001_20240521T232740_2414216_004/EMIT_L2A_RFL_001_20240521T232740_2414216_004.nc'}, {'rel': 'http://esipfed.org/ns/fedsearch/1.1/s3#', 'title': 'This link provides direct download access via S3 to the granule', 'hreflang': 'en-US', 'href': 's3://lp-prod-protected/EMITL2ARFL.001/EMIT_L2A_RFL_001_20240521T232740_2414216_004/EMIT_L2A_RFL_001_20240521T232740_2414216_004.nc'}, {'rel': 'http://esipfed.org/ns/fedsearch/1.1/data#', 'title': 'Download EMIT_L2A_RFLUNCERT_001_20240521T232740_2414216_004.nc', 'hreflang': 'en-US', 'href': 'https://data.lpdaac.earthdatacloud.nasa.gov/lp-prod-protected/EMITL2ARFL.001/EMIT_L2A_RFL_001_20240521T232740_2414216_004/EMIT_L2A_RFLUNCERT_001_20240521T232740_2414216_004.nc'}, {'rel': 'http://esipfed.org/ns/fedsearch/1.1/s3#', 'title': 'This link provides direct download access via S3 to the granule', 'hreflang': 'en-US', 'href': 's3://lp-prod-protected/EMITL2ARFL.001/EMIT_L2A_RFL_001_20240521T232740_2414216_004/EMIT_L2A_RFLUNCERT_001_20240521T232740_2414216_004.nc'}, {'rel': 'http://esipfed.org/ns/fedsearch/1.1/data#', 'title': 'Download EMIT_L2A_MASK_001_20240521T232740_2414216_004.nc', 'hreflang': 'en-US', 'href': 'https://data.lpdaac.earthdatacloud.nasa.gov/lp-prod-protected/EMITL2ARFL.001/EMIT_L2A_RFL_001_20240521T232740_2414216_004/EMIT_L2A_MASK_001_20240521T232740_2414216_004.nc'}, {'rel': 'http://esipfed.org/ns/fedsearch/1.1/s3#', 'title': 'This link provides direct download access via S3 to the granule', 'hreflang': 'en-US', 'href': 's3://lp-prod-protected/EMITL2ARFL.001/EMIT_L2A_RFL_001_20240521T232740_2414216_004/EMIT_L2A_MASK_001_20240521T232740_2414216_004.nc'}, {'rel': 'http://esipfed.org/ns/fedsearch/1.1/browse#', 'title': 'Download EMIT_L2A_RFL_001_20240521T232740_2414216_004.png', 'hreflang': 'en-US', 'href': 'https://data.lpdaac.earthdatacloud.nasa.gov/lp-prod-public/EMITL2ARFL.001/EMIT_L2A_RFL_001_20240521T232740_2414216_004/EMIT_L2A_RFL_001_20240521T232740_2414216_004.png'}, {'rel': 'http://esipfed.org/ns/fedsearch/1.1/browse#', 'title': 'This link provides direct download access via S3 to the granule', 'hreflang': 'en-US', 'href': 's3://lp-prod-public/EMITL2ARFL.001/EMIT_L2A_RFL_001_20240521T232740_2414216_004/EMIT_L2A_RFL_001_20240521T232740_2414216_004.png'}, {'rel': 'http://esipfed.org/ns/fedsearch/1.1/metadata#', 'title': 'Download EMIT_L2A_RFL_001_20240521T232740_2414216_004.cmr.json', 'hreflang': 'en-US', 'href': 'https://data.lpdaac.earthdatacloud.nasa.gov/lp-prod-protected/EMITL2ARFL.001/EMIT_L2A_RFL_001_20240521T232740_2414216_004/EMIT_L2A_RFL_001_20240521T232740_2414216_004.cmr.json'}, {'rel': 'http://esipfed.org/ns/fedsearch/1.1/metadata#', 'title': 'This link provides direct download access via S3 to the granule', 'hreflang': 'en-US', 'href': 's3://lp-prod-protected/EMITL2ARFL.001/EMIT_L2A_RFL_001_20240521T232740_2414216_004/EMIT_L2A_RFL_001_20240521T232740_2414216_004.cmr.json'}, {'rel': 'http://esipfed.org/ns/fedsearch/1.1/metadata#', 'title': 'api endpoint to retrieve temporary credentials valid for same-region direct s3 access', 'hreflang': 'en-US', 'href': 'https://data.lpdaac.earthdatacloud.nasa.gov/s3credentials'}, {'inherited': True, 'rel': 'http://esipfed.org/ns/fedsearch/1.1/metadata#', 'hreflang': 'en-US', 'href': 'https://earth.jpl.nasa.gov/emit/'}, {'inherited': True, 'rel': 'http://esipfed.org/ns/fedsearch/1.1/metadata#', 'hreflang': 'en-US', 'href': 'https://lpdaac.usgs.gov/'}, {'inherited': True, 'rel': 'http://esipfed.org/ns/fedsearch/1.1/metadata#', 'hreflang': 'en-US', 'href': 'https://doi.org/10.5067/EMIT/EMITL2ARFL.001'}, {'inherited': True, 'rel': 'http://esipfed.org/ns/fedsearch/1.1/documentation#', 'hreflang': 'en-US', 'href': 'https://lpdaac.usgs.gov/documents/1571/EMITL2A_ATBD_v1.pdf'}, {'inherited': True, 'rel': 'http://esipfed.org/ns/fedsearch/1.1/documentation#', 'hreflang': 'en-US', 'href': 'https://lpdaac.usgs.gov/documents/1569/EMITL2ARFL_User_Guide_v1.pdf'}, {'inherited': True, 'rel': 'http://esipfed.org/ns/fedsearch/1.1/documentation#', 'hreflang': 'en-US', 'href': 'https://github.com/emit-sds/emit-sds-l2a'}, {'inherited': True, 'length': '1.8GB', 'rel': 'http://esipfed.org/ns/fedsearch/1.1/data#', 'hreflang': 'en-US', 'href': 'https://search.earthdata.nasa.gov/search/granules?p=C2408750690-LPCLOUD'}, {'inherited': True, 'rel': 'http://esipfed.org/ns/fedsearch/1.1/documentation#', 'hreflang': 'en-US', 'href': 'https://git.earthdata.nasa.gov/projects/LPDUR/repos/emit_tutorials/browse/01_Exploring_L2A_Reflectance'}, {'inherited': True, 'rel': 'http://esipfed.org/ns/fedsearch/1.1/documentation#', 'hreflang': 'en-US', 'href': 'https://www.youtube.com/playlist?list=PLO2yB4LGNlWrC5NdxeHMxyAxdwQhSypXe'}, {'inherited': True, 'rel': 'http://esipfed.org/ns/fedsearch/1.1/documentation#', 'hreflang': 'en-US', 'href': 'https://github.com/nasa/EMIT-Data-Resources'}, {'inherited': True, 'rel': 'http://esipfed.org/ns/fedsearch/1.1/documentation#', 'hreflang': 'en-US', 'href': 'https://lpdaac.usgs.gov/search/?query=EMIT&content_types=E-Learning&view=cards&sort=relevance'}, {'inherited': True, 'rel': 'http://esipfed.org/ns/fedsearch/1.1/data#', 'hreflang': 'en-US', 'href': 'https://appeears.earthdatacloud.nasa.gov/'}]}]}}\n",
      "<Response [200]>\n",
      "{'feed': {'updated': '2024-08-23T01:28:13.296Z', 'id': 'https://cmr.earthdata.nasa.gov:443/search/granules.json', 'title': 'ECHO granule metadata', 'entry': []}}\n",
      "[[['https://data.lpdaac.earthdatacloud.nasa.gov/lp-prod-protected/EMITL2ARFL.001/EMIT_L2A_RFL_001_20240521T232716_2414216_002/EMIT_L2A_RFL_001_20240521T232716_2414216_002.nc', 'https://data.lpdaac.earthdatacloud.nasa.gov/lp-prod-protected/EMITL2ARFL.001/EMIT_L2A_RFL_001_20240521T232716_2414216_002/EMIT_L2A_RFLUNCERT_001_20240521T232716_2414216_002.nc', 'https://data.lpdaac.earthdatacloud.nasa.gov/lp-prod-protected/EMITL2ARFL.001/EMIT_L2A_RFL_001_20240521T232716_2414216_002/EMIT_L2A_MASK_001_20240521T232716_2414216_002.nc'], '30', <MULTIPOLYGON (((-115.986 33.535, -116.723 32.915, -116.209 32.305, -115.472...>], [['https://data.lpdaac.earthdatacloud.nasa.gov/lp-prod-protected/EMITL2ARFL.001/EMIT_L2A_RFL_001_20240521T232728_2414216_003/EMIT_L2A_RFL_001_20240521T232728_2414216_003.nc', 'https://data.lpdaac.earthdatacloud.nasa.gov/lp-prod-protected/EMITL2ARFL.001/EMIT_L2A_RFL_001_20240521T232728_2414216_003/EMIT_L2A_RFLUNCERT_001_20240521T232728_2414216_003.nc', 'https://data.lpdaac.earthdatacloud.nasa.gov/lp-prod-protected/EMITL2ARFL.001/EMIT_L2A_RFL_001_20240521T232728_2414216_003/EMIT_L2A_MASK_001_20240521T232728_2414216_003.nc'], '20', <MULTIPOLYGON (((-115.346 34.055, -116.104 33.435, -115.6 32.82, -114.843 33...>], [['https://data.lpdaac.earthdatacloud.nasa.gov/lp-prod-protected/EMITL2ARFL.001/EMIT_L2A_RFL_001_20240521T232740_2414216_004/EMIT_L2A_RFL_001_20240521T232740_2414216_004.nc', 'https://data.lpdaac.earthdatacloud.nasa.gov/lp-prod-protected/EMITL2ARFL.001/EMIT_L2A_RFL_001_20240521T232740_2414216_004/EMIT_L2A_RFLUNCERT_001_20240521T232740_2414216_004.nc', 'https://data.lpdaac.earthdatacloud.nasa.gov/lp-prod-protected/EMITL2ARFL.001/EMIT_L2A_RFL_001_20240521T232740_2414216_004/EMIT_L2A_MASK_001_20240521T232740_2414216_004.nc'], '8', <MULTIPOLYGON (((-114.705 34.57, -115.473 33.952, -114.973 33.33, -114.204 3...>]]\n"
     ]
    }
   ],
   "source": [
    "# Search using a Polygon\n",
    "# polygon = geopandas.read_file(geojson_filename)\n",
    "# geojson = {\"shapefile\": (geojson_filename, polygon.geometry.to_json(), \"application/geo+json\")}\n",
    "\n",
    "page_num = 1\n",
    "page_size = 2000 # CMR page size limit\n",
    "\n",
    "granule_arr = []\n",
    "\n",
    "while True:\n",
    "    \n",
    "     # defining parameters\n",
    "    cmr_param = {\n",
    "        \"collection_concept_id\": concept_id, \n",
    "        \"page_size\": page_size,\n",
    "        \"page_num\": page_num,\n",
    "        \"temporal\": temporal_str,\n",
    "        \"simplify-shapefile\": 'true' # this is needed to bypass 5000 coordinates limit of CMR\n",
    "    }\n",
    "\n",
    "    granulesearch = cmrurl + 'granules.json'\n",
    "    response = requests.post(granulesearch, data=cmr_param, files=geojson)\n",
    "    print(response)\n",
    "    print(response.json())\n",
    "    granules = response.json()['feed']['entry']\n",
    "       \n",
    "    if granules:\n",
    "        for g in granules:\n",
    "            granule_urls = ''\n",
    "            granule_poly = ''\n",
    "                       \n",
    "            # read granule title and cloud cover\n",
    "            granule_name = g['title']\n",
    "            cloud_cover = g['cloud_cover']\n",
    "    \n",
    "            # reading bounding geometries\n",
    "            if 'polygons' in g:\n",
    "                polygons= g['polygons']\n",
    "                multipolygons = []\n",
    "                for poly in polygons:\n",
    "                    i=iter(poly[0].split (\" \"))\n",
    "                    ltln = list(map(\" \".join,zip(i,i)))\n",
    "                    multipolygons.append(Polygon([[float(p.split(\" \")[1]), float(p.split(\" \")[0])] for p in ltln]))\n",
    "                granule_poly = MultiPolygon(multipolygons)\n",
    "            \n",
    "            # Get https URLs to .nc files and exclude .dmrpp files\n",
    "            granule_urls = [x['href'] for x in g['links'] if 'https' in x['href'] and '.nc' in x['href'] and '.dmrpp' not in x['href']]\n",
    "            # Add to list\n",
    "            granule_arr.append([granule_urls, cloud_cover, granule_poly])\n",
    "                           \n",
    "        page_num += 1\n",
    "    else: \n",
    "        break\n",
    " \n",
    "print(granule_arr)"
   ]
  },
  {
   "cell_type": "code",
   "execution_count": 20,
   "metadata": {
    "tags": []
   },
   "outputs": [
    {
     "data": {
      "text/html": [
       "<div>\n",
       "<style scoped>\n",
       "    .dataframe tbody tr th:only-of-type {\n",
       "        vertical-align: middle;\n",
       "    }\n",
       "\n",
       "    .dataframe tbody tr th {\n",
       "        vertical-align: top;\n",
       "    }\n",
       "\n",
       "    .dataframe thead th {\n",
       "        text-align: right;\n",
       "    }\n",
       "</style>\n",
       "<table border=\"1\" class=\"dataframe\">\n",
       "  <thead>\n",
       "    <tr style=\"text-align: right;\">\n",
       "      <th></th>\n",
       "      <th>asset_name</th>\n",
       "      <th>asset_url</th>\n",
       "      <th>cloud_cover</th>\n",
       "      <th>granule_poly</th>\n",
       "    </tr>\n",
       "  </thead>\n",
       "  <tbody>\n",
       "    <tr>\n",
       "      <th>0</th>\n",
       "      <td>EMIT_L2A_RFL_001_20240521T232716_2414216_002.nc</td>\n",
       "      <td>https://data.lpdaac.earthdatacloud.nasa.gov/lp...</td>\n",
       "      <td>30</td>\n",
       "      <td>MULTIPOLYGON (((-115.9862595 33.5352974, -116....</td>\n",
       "    </tr>\n",
       "    <tr>\n",
       "      <th>0</th>\n",
       "      <td>EMIT_L2A_RFLUNCERT_001_20240521T232716_2414216...</td>\n",
       "      <td>https://data.lpdaac.earthdatacloud.nasa.gov/lp...</td>\n",
       "      <td>30</td>\n",
       "      <td>MULTIPOLYGON (((-115.9862595 33.5352974, -116....</td>\n",
       "    </tr>\n",
       "    <tr>\n",
       "      <th>0</th>\n",
       "      <td>EMIT_L2A_MASK_001_20240521T232716_2414216_002.nc</td>\n",
       "      <td>https://data.lpdaac.earthdatacloud.nasa.gov/lp...</td>\n",
       "      <td>30</td>\n",
       "      <td>MULTIPOLYGON (((-115.9862595 33.5352974, -116....</td>\n",
       "    </tr>\n",
       "    <tr>\n",
       "      <th>1</th>\n",
       "      <td>EMIT_L2A_RFL_001_20240521T232728_2414216_003.nc</td>\n",
       "      <td>https://data.lpdaac.earthdatacloud.nasa.gov/lp...</td>\n",
       "      <td>20</td>\n",
       "      <td>MULTIPOLYGON (((-115.3462372 34.0547523, -116....</td>\n",
       "    </tr>\n",
       "    <tr>\n",
       "      <th>1</th>\n",
       "      <td>EMIT_L2A_RFLUNCERT_001_20240521T232728_2414216...</td>\n",
       "      <td>https://data.lpdaac.earthdatacloud.nasa.gov/lp...</td>\n",
       "      <td>20</td>\n",
       "      <td>MULTIPOLYGON (((-115.3462372 34.0547523, -116....</td>\n",
       "    </tr>\n",
       "    <tr>\n",
       "      <th>1</th>\n",
       "      <td>EMIT_L2A_MASK_001_20240521T232728_2414216_003.nc</td>\n",
       "      <td>https://data.lpdaac.earthdatacloud.nasa.gov/lp...</td>\n",
       "      <td>20</td>\n",
       "      <td>MULTIPOLYGON (((-115.3462372 34.0547523, -116....</td>\n",
       "    </tr>\n",
       "    <tr>\n",
       "      <th>2</th>\n",
       "      <td>EMIT_L2A_RFL_001_20240521T232740_2414216_004.nc</td>\n",
       "      <td>https://data.lpdaac.earthdatacloud.nasa.gov/lp...</td>\n",
       "      <td>8</td>\n",
       "      <td>MULTIPOLYGON (((-114.7049332 34.5700073, -115....</td>\n",
       "    </tr>\n",
       "    <tr>\n",
       "      <th>2</th>\n",
       "      <td>EMIT_L2A_RFLUNCERT_001_20240521T232740_2414216...</td>\n",
       "      <td>https://data.lpdaac.earthdatacloud.nasa.gov/lp...</td>\n",
       "      <td>8</td>\n",
       "      <td>MULTIPOLYGON (((-114.7049332 34.5700073, -115....</td>\n",
       "    </tr>\n",
       "    <tr>\n",
       "      <th>2</th>\n",
       "      <td>EMIT_L2A_MASK_001_20240521T232740_2414216_004.nc</td>\n",
       "      <td>https://data.lpdaac.earthdatacloud.nasa.gov/lp...</td>\n",
       "      <td>8</td>\n",
       "      <td>MULTIPOLYGON (((-114.7049332 34.5700073, -115....</td>\n",
       "    </tr>\n",
       "  </tbody>\n",
       "</table>\n",
       "</div>"
      ],
      "text/plain": [
       "                                          asset_name  \\\n",
       "0    EMIT_L2A_RFL_001_20240521T232716_2414216_002.nc   \n",
       "0  EMIT_L2A_RFLUNCERT_001_20240521T232716_2414216...   \n",
       "0   EMIT_L2A_MASK_001_20240521T232716_2414216_002.nc   \n",
       "1    EMIT_L2A_RFL_001_20240521T232728_2414216_003.nc   \n",
       "1  EMIT_L2A_RFLUNCERT_001_20240521T232728_2414216...   \n",
       "1   EMIT_L2A_MASK_001_20240521T232728_2414216_003.nc   \n",
       "2    EMIT_L2A_RFL_001_20240521T232740_2414216_004.nc   \n",
       "2  EMIT_L2A_RFLUNCERT_001_20240521T232740_2414216...   \n",
       "2   EMIT_L2A_MASK_001_20240521T232740_2414216_004.nc   \n",
       "\n",
       "                                           asset_url cloud_cover  \\\n",
       "0  https://data.lpdaac.earthdatacloud.nasa.gov/lp...          30   \n",
       "0  https://data.lpdaac.earthdatacloud.nasa.gov/lp...          30   \n",
       "0  https://data.lpdaac.earthdatacloud.nasa.gov/lp...          30   \n",
       "1  https://data.lpdaac.earthdatacloud.nasa.gov/lp...          20   \n",
       "1  https://data.lpdaac.earthdatacloud.nasa.gov/lp...          20   \n",
       "1  https://data.lpdaac.earthdatacloud.nasa.gov/lp...          20   \n",
       "2  https://data.lpdaac.earthdatacloud.nasa.gov/lp...           8   \n",
       "2  https://data.lpdaac.earthdatacloud.nasa.gov/lp...           8   \n",
       "2  https://data.lpdaac.earthdatacloud.nasa.gov/lp...           8   \n",
       "\n",
       "                                        granule_poly  \n",
       "0  MULTIPOLYGON (((-115.9862595 33.5352974, -116....  \n",
       "0  MULTIPOLYGON (((-115.9862595 33.5352974, -116....  \n",
       "0  MULTIPOLYGON (((-115.9862595 33.5352974, -116....  \n",
       "1  MULTIPOLYGON (((-115.3462372 34.0547523, -116....  \n",
       "1  MULTIPOLYGON (((-115.3462372 34.0547523, -116....  \n",
       "1  MULTIPOLYGON (((-115.3462372 34.0547523, -116....  \n",
       "2  MULTIPOLYGON (((-114.7049332 34.5700073, -115....  \n",
       "2  MULTIPOLYGON (((-114.7049332 34.5700073, -115....  \n",
       "2  MULTIPOLYGON (((-114.7049332 34.5700073, -115....  "
      ]
     },
     "execution_count": 20,
     "metadata": {},
     "output_type": "execute_result"
    }
   ],
   "source": [
    "# creating a pandas dataframe\n",
    "cmr_results_df = pd.DataFrame(granule_arr, columns=[\"asset_url\", \"cloud_cover\", \"granule_poly\"])\n",
    "# Drop granules with empty geometry - if any exist\n",
    "cmr_results_df = cmr_results_df[cmr_results_df['granule_poly'] != '']\n",
    "# Expand so each row contains a single url \n",
    "cmr_results_df = cmr_results_df.explode('asset_url')\n",
    "# Name each asset based on filename\n",
    "cmr_results_df.insert(0,'asset_name', cmr_results_df.asset_url.str.split('/',n=-1).str.get(-1))\n",
    "\n",
    "cmr_results_df"
   ]
  },
  {
   "cell_type": "code",
   "execution_count": null,
   "metadata": {},
   "outputs": [],
   "source": []
  }
 ],
 "metadata": {
  "kernelspec": {
   "display_name": "Python 3 (ipykernel)",
   "language": "python",
   "name": "python3"
  },
  "language_info": {
   "codemirror_mode": {
    "name": "ipython",
    "version": 3
   },
   "file_extension": ".py",
   "mimetype": "text/x-python",
   "name": "python",
   "nbconvert_exporter": "python",
   "pygments_lexer": "ipython3",
   "version": "3.11.9"
  },
  "vscode": {
   "interpreter": {
    "hash": "3292b2aceff7d39327a7519422d4180a7c9b133202090f26e797e3dd8f2c7877"
   }
  }
 },
 "nbformat": 4,
 "nbformat_minor": 4
}
