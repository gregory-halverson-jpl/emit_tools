{
 "cells": [
  {
   "cell_type": "code",
   "execution_count": 2,
   "metadata": {
    "tags": []
   },
   "outputs": [],
   "source": [
    "from typing import Union\n",
    "import os\n",
    "import requests\n",
    "import earthaccess\n",
    "import pandas as pd\n",
    "import datetime as dt\n",
    "from datetime import date\n",
    "from dateutil import parser\n",
    "import geopandas\n",
    "import geopandas as gpd\n",
    "from shapely.geometry import MultiPolygon, Polygon, box\n",
    "from shapely.geometry.polygon import orient\n",
    "from sentinel_tiles import sentinel_tiles\n",
    "from emit_tools.generate_CMR_daterange_string import generate_CMR_daterange_string\n",
    "from emit_tools.search_EMIT_L2A_reflectance import search_EMIT_L2A_reflectance"
   ]
  },
  {
   "cell_type": "code",
   "execution_count": 3,
   "metadata": {},
   "outputs": [],
   "source": [
    "geojson_filename = \"11SPS.geojson\"\n",
    "start_date = \"2024-05-01\"\n",
    "end_date = \"2024-05-30\""
   ]
  },
  {
   "cell_type": "code",
   "execution_count": 4,
   "metadata": {},
   "outputs": [
    {
     "data": {
      "text/plain": [
       "'POLYGON ((-115.92423373599996 33.43490918800006, -114.74363157999994 33.419046707000064, -114.76862412 32.429359161000036, -115.93615876899997 32.444635394000045, -115.92423373599996 33.43490918800006))'"
      ]
     },
     "execution_count": 4,
     "metadata": {},
     "output_type": "execute_result"
    }
   ],
   "source": [
    "polygon = sentinel_tiles.footprint(\"11SPS\")\n",
    "polygon.wkt"
   ]
  },
  {
   "cell_type": "code",
   "execution_count": 6,
   "metadata": {},
   "outputs": [
    {
     "name": "stdout",
     "output_type": "stream",
     "text": [
      "<Response [200]>\n",
      "{'feed': {'updated': '2024-08-23T01:59:32.900Z', 'id': 'https://cmr.earthdata.nasa.gov:443/search/granules.json', 'title': 'ECHO granule metadata', 'entry': [{'time_start': '2024-05-21T23:27:16.000Z', 'cloud_cover': '30', 'updated': '2024-05-23T23:03:47.000Z', 'dataset_id': 'EMIT L2A Estimated Surface Reflectance and Uncertainty and Masks 60 m V001', 'data_center': 'LPCLOUD', 'title': 'EMIT_L2A_RFL_001_20240521T232716_2414216_002', 'coordinate_system': 'GEODETIC', 'day_night_flag': 'DAY', 'time_end': '2024-05-21T23:27:28.000Z', 'id': 'G3029286621-LPCLOUD', 'original_format': 'UMM_JSON', 'granule_size': '3579.7861518859863', 'browse_flag': True, 'polygons': [['33.5352974 -115.9862595 32.9145088 -116.7228775 32.3046684 -116.208931 32.925457 -115.4723129 33.5352974 -115.9862595']], 'collection_concept_id': 'C2408750690-LPCLOUD', 'online_access_flag': True, 'links': [{'rel': 'http://esipfed.org/ns/fedsearch/1.1/data#', 'title': 'Download EMIT_L2A_RFL_001_20240521T232716_2414216_002.nc', 'hreflang': 'en-US', 'href': 'https://data.lpdaac.earthdatacloud.nasa.gov/lp-prod-protected/EMITL2ARFL.001/EMIT_L2A_RFL_001_20240521T232716_2414216_002/EMIT_L2A_RFL_001_20240521T232716_2414216_002.nc'}, {'rel': 'http://esipfed.org/ns/fedsearch/1.1/s3#', 'title': 'This link provides direct download access via S3 to the granule', 'hreflang': 'en-US', 'href': 's3://lp-prod-protected/EMITL2ARFL.001/EMIT_L2A_RFL_001_20240521T232716_2414216_002/EMIT_L2A_RFL_001_20240521T232716_2414216_002.nc'}, {'rel': 'http://esipfed.org/ns/fedsearch/1.1/data#', 'title': 'Download EMIT_L2A_RFLUNCERT_001_20240521T232716_2414216_002.nc', 'hreflang': 'en-US', 'href': 'https://data.lpdaac.earthdatacloud.nasa.gov/lp-prod-protected/EMITL2ARFL.001/EMIT_L2A_RFL_001_20240521T232716_2414216_002/EMIT_L2A_RFLUNCERT_001_20240521T232716_2414216_002.nc'}, {'rel': 'http://esipfed.org/ns/fedsearch/1.1/s3#', 'title': 'This link provides direct download access via S3 to the granule', 'hreflang': 'en-US', 'href': 's3://lp-prod-protected/EMITL2ARFL.001/EMIT_L2A_RFL_001_20240521T232716_2414216_002/EMIT_L2A_RFLUNCERT_001_20240521T232716_2414216_002.nc'}, {'rel': 'http://esipfed.org/ns/fedsearch/1.1/data#', 'title': 'Download EMIT_L2A_MASK_001_20240521T232716_2414216_002.nc', 'hreflang': 'en-US', 'href': 'https://data.lpdaac.earthdatacloud.nasa.gov/lp-prod-protected/EMITL2ARFL.001/EMIT_L2A_RFL_001_20240521T232716_2414216_002/EMIT_L2A_MASK_001_20240521T232716_2414216_002.nc'}, {'rel': 'http://esipfed.org/ns/fedsearch/1.1/s3#', 'title': 'This link provides direct download access via S3 to the granule', 'hreflang': 'en-US', 'href': 's3://lp-prod-protected/EMITL2ARFL.001/EMIT_L2A_RFL_001_20240521T232716_2414216_002/EMIT_L2A_MASK_001_20240521T232716_2414216_002.nc'}, {'rel': 'http://esipfed.org/ns/fedsearch/1.1/browse#', 'title': 'Download EMIT_L2A_RFL_001_20240521T232716_2414216_002.png', 'hreflang': 'en-US', 'href': 'https://data.lpdaac.earthdatacloud.nasa.gov/lp-prod-public/EMITL2ARFL.001/EMIT_L2A_RFL_001_20240521T232716_2414216_002/EMIT_L2A_RFL_001_20240521T232716_2414216_002.png'}, {'rel': 'http://esipfed.org/ns/fedsearch/1.1/browse#', 'title': 'This link provides direct download access via S3 to the granule', 'hreflang': 'en-US', 'href': 's3://lp-prod-public/EMITL2ARFL.001/EMIT_L2A_RFL_001_20240521T232716_2414216_002/EMIT_L2A_RFL_001_20240521T232716_2414216_002.png'}, {'rel': 'http://esipfed.org/ns/fedsearch/1.1/metadata#', 'title': 'Download EMIT_L2A_RFL_001_20240521T232716_2414216_002.cmr.json', 'hreflang': 'en-US', 'href': 'https://data.lpdaac.earthdatacloud.nasa.gov/lp-prod-protected/EMITL2ARFL.001/EMIT_L2A_RFL_001_20240521T232716_2414216_002/EMIT_L2A_RFL_001_20240521T232716_2414216_002.cmr.json'}, {'rel': 'http://esipfed.org/ns/fedsearch/1.1/metadata#', 'title': 'This link provides direct download access via S3 to the granule', 'hreflang': 'en-US', 'href': 's3://lp-prod-protected/EMITL2ARFL.001/EMIT_L2A_RFL_001_20240521T232716_2414216_002/EMIT_L2A_RFL_001_20240521T232716_2414216_002.cmr.json'}, {'rel': 'http://esipfed.org/ns/fedsearch/1.1/metadata#', 'title': 'api endpoint to retrieve temporary credentials valid for same-region direct s3 access', 'hreflang': 'en-US', 'href': 'https://data.lpdaac.earthdatacloud.nasa.gov/s3credentials'}, {'inherited': True, 'rel': 'http://esipfed.org/ns/fedsearch/1.1/metadata#', 'hreflang': 'en-US', 'href': 'https://earth.jpl.nasa.gov/emit/'}, {'inherited': True, 'rel': 'http://esipfed.org/ns/fedsearch/1.1/metadata#', 'hreflang': 'en-US', 'href': 'https://lpdaac.usgs.gov/'}, {'inherited': True, 'rel': 'http://esipfed.org/ns/fedsearch/1.1/metadata#', 'hreflang': 'en-US', 'href': 'https://doi.org/10.5067/EMIT/EMITL2ARFL.001'}, {'inherited': True, 'rel': 'http://esipfed.org/ns/fedsearch/1.1/documentation#', 'hreflang': 'en-US', 'href': 'https://lpdaac.usgs.gov/documents/1571/EMITL2A_ATBD_v1.pdf'}, {'inherited': True, 'rel': 'http://esipfed.org/ns/fedsearch/1.1/documentation#', 'hreflang': 'en-US', 'href': 'https://lpdaac.usgs.gov/documents/1569/EMITL2ARFL_User_Guide_v1.pdf'}, {'inherited': True, 'rel': 'http://esipfed.org/ns/fedsearch/1.1/documentation#', 'hreflang': 'en-US', 'href': 'https://github.com/emit-sds/emit-sds-l2a'}, {'inherited': True, 'length': '1.8GB', 'rel': 'http://esipfed.org/ns/fedsearch/1.1/data#', 'hreflang': 'en-US', 'href': 'https://search.earthdata.nasa.gov/search/granules?p=C2408750690-LPCLOUD'}, {'inherited': True, 'rel': 'http://esipfed.org/ns/fedsearch/1.1/documentation#', 'hreflang': 'en-US', 'href': 'https://git.earthdata.nasa.gov/projects/LPDUR/repos/emit_tutorials/browse/01_Exploring_L2A_Reflectance'}, {'inherited': True, 'rel': 'http://esipfed.org/ns/fedsearch/1.1/documentation#', 'hreflang': 'en-US', 'href': 'https://www.youtube.com/playlist?list=PLO2yB4LGNlWrC5NdxeHMxyAxdwQhSypXe'}, {'inherited': True, 'rel': 'http://esipfed.org/ns/fedsearch/1.1/documentation#', 'hreflang': 'en-US', 'href': 'https://github.com/nasa/EMIT-Data-Resources'}, {'inherited': True, 'rel': 'http://esipfed.org/ns/fedsearch/1.1/documentation#', 'hreflang': 'en-US', 'href': 'https://lpdaac.usgs.gov/search/?query=EMIT&content_types=E-Learning&view=cards&sort=relevance'}, {'inherited': True, 'rel': 'http://esipfed.org/ns/fedsearch/1.1/data#', 'hreflang': 'en-US', 'href': 'https://appeears.earthdatacloud.nasa.gov/'}]}, {'time_start': '2024-05-21T23:27:28.000Z', 'cloud_cover': '20', 'updated': '2024-05-23T22:58:24.000Z', 'dataset_id': 'EMIT L2A Estimated Surface Reflectance and Uncertainty and Masks 60 m V001', 'data_center': 'LPCLOUD', 'title': 'EMIT_L2A_RFL_001_20240521T232728_2414216_003', 'coordinate_system': 'GEODETIC', 'day_night_flag': 'DAY', 'time_end': '2024-05-21T23:27:40.000Z', 'id': 'G3029272668-LPCLOUD', 'original_format': 'UMM_JSON', 'granule_size': '3579.7054710388184', 'browse_flag': True, 'polygons': [['34.0547523 -115.3462372 33.4353065 -116.1037445 32.8195534 -115.6002197 33.4389992 -114.8427124 34.0547523 -115.3462372']], 'collection_concept_id': 'C2408750690-LPCLOUD', 'online_access_flag': True, 'links': [{'rel': 'http://esipfed.org/ns/fedsearch/1.1/data#', 'title': 'Download EMIT_L2A_RFL_001_20240521T232728_2414216_003.nc', 'hreflang': 'en-US', 'href': 'https://data.lpdaac.earthdatacloud.nasa.gov/lp-prod-protected/EMITL2ARFL.001/EMIT_L2A_RFL_001_20240521T232728_2414216_003/EMIT_L2A_RFL_001_20240521T232728_2414216_003.nc'}, {'rel': 'http://esipfed.org/ns/fedsearch/1.1/s3#', 'title': 'This link provides direct download access via S3 to the granule', 'hreflang': 'en-US', 'href': 's3://lp-prod-protected/EMITL2ARFL.001/EMIT_L2A_RFL_001_20240521T232728_2414216_003/EMIT_L2A_RFL_001_20240521T232728_2414216_003.nc'}, {'rel': 'http://esipfed.org/ns/fedsearch/1.1/data#', 'title': 'Download EMIT_L2A_RFLUNCERT_001_20240521T232728_2414216_003.nc', 'hreflang': 'en-US', 'href': 'https://data.lpdaac.earthdatacloud.nasa.gov/lp-prod-protected/EMITL2ARFL.001/EMIT_L2A_RFL_001_20240521T232728_2414216_003/EMIT_L2A_RFLUNCERT_001_20240521T232728_2414216_003.nc'}, {'rel': 'http://esipfed.org/ns/fedsearch/1.1/s3#', 'title': 'This link provides direct download access via S3 to the granule', 'hreflang': 'en-US', 'href': 's3://lp-prod-protected/EMITL2ARFL.001/EMIT_L2A_RFL_001_20240521T232728_2414216_003/EMIT_L2A_RFLUNCERT_001_20240521T232728_2414216_003.nc'}, {'rel': 'http://esipfed.org/ns/fedsearch/1.1/data#', 'title': 'Download EMIT_L2A_MASK_001_20240521T232728_2414216_003.nc', 'hreflang': 'en-US', 'href': 'https://data.lpdaac.earthdatacloud.nasa.gov/lp-prod-protected/EMITL2ARFL.001/EMIT_L2A_RFL_001_20240521T232728_2414216_003/EMIT_L2A_MASK_001_20240521T232728_2414216_003.nc'}, {'rel': 'http://esipfed.org/ns/fedsearch/1.1/s3#', 'title': 'This link provides direct download access via S3 to the granule', 'hreflang': 'en-US', 'href': 's3://lp-prod-protected/EMITL2ARFL.001/EMIT_L2A_RFL_001_20240521T232728_2414216_003/EMIT_L2A_MASK_001_20240521T232728_2414216_003.nc'}, {'rel': 'http://esipfed.org/ns/fedsearch/1.1/browse#', 'title': 'Download EMIT_L2A_RFL_001_20240521T232728_2414216_003.png', 'hreflang': 'en-US', 'href': 'https://data.lpdaac.earthdatacloud.nasa.gov/lp-prod-public/EMITL2ARFL.001/EMIT_L2A_RFL_001_20240521T232728_2414216_003/EMIT_L2A_RFL_001_20240521T232728_2414216_003.png'}, {'rel': 'http://esipfed.org/ns/fedsearch/1.1/browse#', 'title': 'This link provides direct download access via S3 to the granule', 'hreflang': 'en-US', 'href': 's3://lp-prod-public/EMITL2ARFL.001/EMIT_L2A_RFL_001_20240521T232728_2414216_003/EMIT_L2A_RFL_001_20240521T232728_2414216_003.png'}, {'rel': 'http://esipfed.org/ns/fedsearch/1.1/metadata#', 'title': 'Download EMIT_L2A_RFL_001_20240521T232728_2414216_003.cmr.json', 'hreflang': 'en-US', 'href': 'https://data.lpdaac.earthdatacloud.nasa.gov/lp-prod-protected/EMITL2ARFL.001/EMIT_L2A_RFL_001_20240521T232728_2414216_003/EMIT_L2A_RFL_001_20240521T232728_2414216_003.cmr.json'}, {'rel': 'http://esipfed.org/ns/fedsearch/1.1/metadata#', 'title': 'This link provides direct download access via S3 to the granule', 'hreflang': 'en-US', 'href': 's3://lp-prod-protected/EMITL2ARFL.001/EMIT_L2A_RFL_001_20240521T232728_2414216_003/EMIT_L2A_RFL_001_20240521T232728_2414216_003.cmr.json'}, {'rel': 'http://esipfed.org/ns/fedsearch/1.1/metadata#', 'title': 'api endpoint to retrieve temporary credentials valid for same-region direct s3 access', 'hreflang': 'en-US', 'href': 'https://data.lpdaac.earthdatacloud.nasa.gov/s3credentials'}, {'inherited': True, 'rel': 'http://esipfed.org/ns/fedsearch/1.1/metadata#', 'hreflang': 'en-US', 'href': 'https://earth.jpl.nasa.gov/emit/'}, {'inherited': True, 'rel': 'http://esipfed.org/ns/fedsearch/1.1/metadata#', 'hreflang': 'en-US', 'href': 'https://lpdaac.usgs.gov/'}, {'inherited': True, 'rel': 'http://esipfed.org/ns/fedsearch/1.1/metadata#', 'hreflang': 'en-US', 'href': 'https://doi.org/10.5067/EMIT/EMITL2ARFL.001'}, {'inherited': True, 'rel': 'http://esipfed.org/ns/fedsearch/1.1/documentation#', 'hreflang': 'en-US', 'href': 'https://lpdaac.usgs.gov/documents/1571/EMITL2A_ATBD_v1.pdf'}, {'inherited': True, 'rel': 'http://esipfed.org/ns/fedsearch/1.1/documentation#', 'hreflang': 'en-US', 'href': 'https://lpdaac.usgs.gov/documents/1569/EMITL2ARFL_User_Guide_v1.pdf'}, {'inherited': True, 'rel': 'http://esipfed.org/ns/fedsearch/1.1/documentation#', 'hreflang': 'en-US', 'href': 'https://github.com/emit-sds/emit-sds-l2a'}, {'inherited': True, 'length': '1.8GB', 'rel': 'http://esipfed.org/ns/fedsearch/1.1/data#', 'hreflang': 'en-US', 'href': 'https://search.earthdata.nasa.gov/search/granules?p=C2408750690-LPCLOUD'}, {'inherited': True, 'rel': 'http://esipfed.org/ns/fedsearch/1.1/documentation#', 'hreflang': 'en-US', 'href': 'https://git.earthdata.nasa.gov/projects/LPDUR/repos/emit_tutorials/browse/01_Exploring_L2A_Reflectance'}, {'inherited': True, 'rel': 'http://esipfed.org/ns/fedsearch/1.1/documentation#', 'hreflang': 'en-US', 'href': 'https://www.youtube.com/playlist?list=PLO2yB4LGNlWrC5NdxeHMxyAxdwQhSypXe'}, {'inherited': True, 'rel': 'http://esipfed.org/ns/fedsearch/1.1/documentation#', 'hreflang': 'en-US', 'href': 'https://github.com/nasa/EMIT-Data-Resources'}, {'inherited': True, 'rel': 'http://esipfed.org/ns/fedsearch/1.1/documentation#', 'hreflang': 'en-US', 'href': 'https://lpdaac.usgs.gov/search/?query=EMIT&content_types=E-Learning&view=cards&sort=relevance'}, {'inherited': True, 'rel': 'http://esipfed.org/ns/fedsearch/1.1/data#', 'hreflang': 'en-US', 'href': 'https://appeears.earthdatacloud.nasa.gov/'}]}, {'time_start': '2024-05-21T23:27:40.000Z', 'cloud_cover': '8', 'updated': '2024-05-23T23:06:49.000Z', 'dataset_id': 'EMIT L2A Estimated Surface Reflectance and Uncertainty and Masks 60 m V001', 'data_center': 'LPCLOUD', 'title': 'EMIT_L2A_RFL_001_20240521T232740_2414216_004', 'coordinate_system': 'GEODETIC', 'day_night_flag': 'DAY', 'time_end': '2024-05-21T23:27:52.000Z', 'id': 'G3029292024-LPCLOUD', 'original_format': 'UMM_JSON', 'granule_size': '3579.2659702301025', 'browse_flag': True, 'polygons': [['34.5700073 -114.7049332 33.9517365 -115.4730301 33.3300171 -114.9725876 33.948288 -114.2044907 34.5700073 -114.7049332']], 'collection_concept_id': 'C2408750690-LPCLOUD', 'online_access_flag': True, 'links': [{'rel': 'http://esipfed.org/ns/fedsearch/1.1/data#', 'title': 'Download EMIT_L2A_RFL_001_20240521T232740_2414216_004.nc', 'hreflang': 'en-US', 'href': 'https://data.lpdaac.earthdatacloud.nasa.gov/lp-prod-protected/EMITL2ARFL.001/EMIT_L2A_RFL_001_20240521T232740_2414216_004/EMIT_L2A_RFL_001_20240521T232740_2414216_004.nc'}, {'rel': 'http://esipfed.org/ns/fedsearch/1.1/s3#', 'title': 'This link provides direct download access via S3 to the granule', 'hreflang': 'en-US', 'href': 's3://lp-prod-protected/EMITL2ARFL.001/EMIT_L2A_RFL_001_20240521T232740_2414216_004/EMIT_L2A_RFL_001_20240521T232740_2414216_004.nc'}, {'rel': 'http://esipfed.org/ns/fedsearch/1.1/data#', 'title': 'Download EMIT_L2A_RFLUNCERT_001_20240521T232740_2414216_004.nc', 'hreflang': 'en-US', 'href': 'https://data.lpdaac.earthdatacloud.nasa.gov/lp-prod-protected/EMITL2ARFL.001/EMIT_L2A_RFL_001_20240521T232740_2414216_004/EMIT_L2A_RFLUNCERT_001_20240521T232740_2414216_004.nc'}, {'rel': 'http://esipfed.org/ns/fedsearch/1.1/s3#', 'title': 'This link provides direct download access via S3 to the granule', 'hreflang': 'en-US', 'href': 's3://lp-prod-protected/EMITL2ARFL.001/EMIT_L2A_RFL_001_20240521T232740_2414216_004/EMIT_L2A_RFLUNCERT_001_20240521T232740_2414216_004.nc'}, {'rel': 'http://esipfed.org/ns/fedsearch/1.1/data#', 'title': 'Download EMIT_L2A_MASK_001_20240521T232740_2414216_004.nc', 'hreflang': 'en-US', 'href': 'https://data.lpdaac.earthdatacloud.nasa.gov/lp-prod-protected/EMITL2ARFL.001/EMIT_L2A_RFL_001_20240521T232740_2414216_004/EMIT_L2A_MASK_001_20240521T232740_2414216_004.nc'}, {'rel': 'http://esipfed.org/ns/fedsearch/1.1/s3#', 'title': 'This link provides direct download access via S3 to the granule', 'hreflang': 'en-US', 'href': 's3://lp-prod-protected/EMITL2ARFL.001/EMIT_L2A_RFL_001_20240521T232740_2414216_004/EMIT_L2A_MASK_001_20240521T232740_2414216_004.nc'}, {'rel': 'http://esipfed.org/ns/fedsearch/1.1/browse#', 'title': 'Download EMIT_L2A_RFL_001_20240521T232740_2414216_004.png', 'hreflang': 'en-US', 'href': 'https://data.lpdaac.earthdatacloud.nasa.gov/lp-prod-public/EMITL2ARFL.001/EMIT_L2A_RFL_001_20240521T232740_2414216_004/EMIT_L2A_RFL_001_20240521T232740_2414216_004.png'}, {'rel': 'http://esipfed.org/ns/fedsearch/1.1/browse#', 'title': 'This link provides direct download access via S3 to the granule', 'hreflang': 'en-US', 'href': 's3://lp-prod-public/EMITL2ARFL.001/EMIT_L2A_RFL_001_20240521T232740_2414216_004/EMIT_L2A_RFL_001_20240521T232740_2414216_004.png'}, {'rel': 'http://esipfed.org/ns/fedsearch/1.1/metadata#', 'title': 'Download EMIT_L2A_RFL_001_20240521T232740_2414216_004.cmr.json', 'hreflang': 'en-US', 'href': 'https://data.lpdaac.earthdatacloud.nasa.gov/lp-prod-protected/EMITL2ARFL.001/EMIT_L2A_RFL_001_20240521T232740_2414216_004/EMIT_L2A_RFL_001_20240521T232740_2414216_004.cmr.json'}, {'rel': 'http://esipfed.org/ns/fedsearch/1.1/metadata#', 'title': 'This link provides direct download access via S3 to the granule', 'hreflang': 'en-US', 'href': 's3://lp-prod-protected/EMITL2ARFL.001/EMIT_L2A_RFL_001_20240521T232740_2414216_004/EMIT_L2A_RFL_001_20240521T232740_2414216_004.cmr.json'}, {'rel': 'http://esipfed.org/ns/fedsearch/1.1/metadata#', 'title': 'api endpoint to retrieve temporary credentials valid for same-region direct s3 access', 'hreflang': 'en-US', 'href': 'https://data.lpdaac.earthdatacloud.nasa.gov/s3credentials'}, {'inherited': True, 'rel': 'http://esipfed.org/ns/fedsearch/1.1/metadata#', 'hreflang': 'en-US', 'href': 'https://earth.jpl.nasa.gov/emit/'}, {'inherited': True, 'rel': 'http://esipfed.org/ns/fedsearch/1.1/metadata#', 'hreflang': 'en-US', 'href': 'https://lpdaac.usgs.gov/'}, {'inherited': True, 'rel': 'http://esipfed.org/ns/fedsearch/1.1/metadata#', 'hreflang': 'en-US', 'href': 'https://doi.org/10.5067/EMIT/EMITL2ARFL.001'}, {'inherited': True, 'rel': 'http://esipfed.org/ns/fedsearch/1.1/documentation#', 'hreflang': 'en-US', 'href': 'https://lpdaac.usgs.gov/documents/1571/EMITL2A_ATBD_v1.pdf'}, {'inherited': True, 'rel': 'http://esipfed.org/ns/fedsearch/1.1/documentation#', 'hreflang': 'en-US', 'href': 'https://lpdaac.usgs.gov/documents/1569/EMITL2ARFL_User_Guide_v1.pdf'}, {'inherited': True, 'rel': 'http://esipfed.org/ns/fedsearch/1.1/documentation#', 'hreflang': 'en-US', 'href': 'https://github.com/emit-sds/emit-sds-l2a'}, {'inherited': True, 'length': '1.8GB', 'rel': 'http://esipfed.org/ns/fedsearch/1.1/data#', 'hreflang': 'en-US', 'href': 'https://search.earthdata.nasa.gov/search/granules?p=C2408750690-LPCLOUD'}, {'inherited': True, 'rel': 'http://esipfed.org/ns/fedsearch/1.1/documentation#', 'hreflang': 'en-US', 'href': 'https://git.earthdata.nasa.gov/projects/LPDUR/repos/emit_tutorials/browse/01_Exploring_L2A_Reflectance'}, {'inherited': True, 'rel': 'http://esipfed.org/ns/fedsearch/1.1/documentation#', 'hreflang': 'en-US', 'href': 'https://www.youtube.com/playlist?list=PLO2yB4LGNlWrC5NdxeHMxyAxdwQhSypXe'}, {'inherited': True, 'rel': 'http://esipfed.org/ns/fedsearch/1.1/documentation#', 'hreflang': 'en-US', 'href': 'https://github.com/nasa/EMIT-Data-Resources'}, {'inherited': True, 'rel': 'http://esipfed.org/ns/fedsearch/1.1/documentation#', 'hreflang': 'en-US', 'href': 'https://lpdaac.usgs.gov/search/?query=EMIT&content_types=E-Learning&view=cards&sort=relevance'}, {'inherited': True, 'rel': 'http://esipfed.org/ns/fedsearch/1.1/data#', 'hreflang': 'en-US', 'href': 'https://appeears.earthdatacloud.nasa.gov/'}]}]}}\n",
      "<Response [200]>\n",
      "{'feed': {'updated': '2024-08-23T01:59:33.114Z', 'id': 'https://cmr.earthdata.nasa.gov:443/search/granules.json', 'title': 'ECHO granule metadata', 'entry': []}}\n"
     ]
    },
    {
     "data": {
      "text/html": [
       "<div>\n",
       "<style scoped>\n",
       "    .dataframe tbody tr th:only-of-type {\n",
       "        vertical-align: middle;\n",
       "    }\n",
       "\n",
       "    .dataframe tbody tr th {\n",
       "        vertical-align: top;\n",
       "    }\n",
       "\n",
       "    .dataframe thead th {\n",
       "        text-align: right;\n",
       "    }\n",
       "</style>\n",
       "<table border=\"1\" class=\"dataframe\">\n",
       "  <thead>\n",
       "    <tr style=\"text-align: right;\">\n",
       "      <th></th>\n",
       "      <th>date</th>\n",
       "      <th>product</th>\n",
       "      <th>filename</th>\n",
       "      <th>URL</th>\n",
       "      <th>cloud_percent</th>\n",
       "      <th>geometry</th>\n",
       "    </tr>\n",
       "  </thead>\n",
       "  <tbody>\n",
       "    <tr>\n",
       "      <th>0</th>\n",
       "      <td>2024-08-01</td>\n",
       "      <td>L2A_RFL</td>\n",
       "      <td>EMIT_L2A_RFL_001_20240521T232716_2414216_002.nc</td>\n",
       "      <td>https://data.lpdaac.earthdatacloud.nasa.gov/lp...</td>\n",
       "      <td>30</td>\n",
       "      <td>MULTIPOLYGON (((-115.9862595 33.5352974, -116....</td>\n",
       "    </tr>\n",
       "    <tr>\n",
       "      <th>0</th>\n",
       "      <td>2024-08-01</td>\n",
       "      <td>L2A_RFLUNCERT</td>\n",
       "      <td>EMIT_L2A_RFLUNCERT_001_20240521T232716_2414216...</td>\n",
       "      <td>https://data.lpdaac.earthdatacloud.nasa.gov/lp...</td>\n",
       "      <td>30</td>\n",
       "      <td>MULTIPOLYGON (((-115.9862595 33.5352974, -116....</td>\n",
       "    </tr>\n",
       "    <tr>\n",
       "      <th>0</th>\n",
       "      <td>2024-08-01</td>\n",
       "      <td>L2A_MASK</td>\n",
       "      <td>EMIT_L2A_MASK_001_20240521T232716_2414216_002.nc</td>\n",
       "      <td>https://data.lpdaac.earthdatacloud.nasa.gov/lp...</td>\n",
       "      <td>30</td>\n",
       "      <td>MULTIPOLYGON (((-115.9862595 33.5352974, -116....</td>\n",
       "    </tr>\n",
       "    <tr>\n",
       "      <th>1</th>\n",
       "      <td>2024-08-01</td>\n",
       "      <td>L2A_RFL</td>\n",
       "      <td>EMIT_L2A_RFL_001_20240521T232728_2414216_003.nc</td>\n",
       "      <td>https://data.lpdaac.earthdatacloud.nasa.gov/lp...</td>\n",
       "      <td>20</td>\n",
       "      <td>MULTIPOLYGON (((-115.3462372 34.0547523, -116....</td>\n",
       "    </tr>\n",
       "    <tr>\n",
       "      <th>1</th>\n",
       "      <td>2024-08-01</td>\n",
       "      <td>L2A_RFLUNCERT</td>\n",
       "      <td>EMIT_L2A_RFLUNCERT_001_20240521T232728_2414216...</td>\n",
       "      <td>https://data.lpdaac.earthdatacloud.nasa.gov/lp...</td>\n",
       "      <td>20</td>\n",
       "      <td>MULTIPOLYGON (((-115.3462372 34.0547523, -116....</td>\n",
       "    </tr>\n",
       "    <tr>\n",
       "      <th>1</th>\n",
       "      <td>2024-08-01</td>\n",
       "      <td>L2A_MASK</td>\n",
       "      <td>EMIT_L2A_MASK_001_20240521T232728_2414216_003.nc</td>\n",
       "      <td>https://data.lpdaac.earthdatacloud.nasa.gov/lp...</td>\n",
       "      <td>20</td>\n",
       "      <td>MULTIPOLYGON (((-115.3462372 34.0547523, -116....</td>\n",
       "    </tr>\n",
       "    <tr>\n",
       "      <th>2</th>\n",
       "      <td>2024-08-01</td>\n",
       "      <td>L2A_RFL</td>\n",
       "      <td>EMIT_L2A_RFL_001_20240521T232740_2414216_004.nc</td>\n",
       "      <td>https://data.lpdaac.earthdatacloud.nasa.gov/lp...</td>\n",
       "      <td>8</td>\n",
       "      <td>MULTIPOLYGON (((-114.7049332 34.5700073, -115....</td>\n",
       "    </tr>\n",
       "    <tr>\n",
       "      <th>2</th>\n",
       "      <td>2024-08-01</td>\n",
       "      <td>L2A_RFLUNCERT</td>\n",
       "      <td>EMIT_L2A_RFLUNCERT_001_20240521T232740_2414216...</td>\n",
       "      <td>https://data.lpdaac.earthdatacloud.nasa.gov/lp...</td>\n",
       "      <td>8</td>\n",
       "      <td>MULTIPOLYGON (((-114.7049332 34.5700073, -115....</td>\n",
       "    </tr>\n",
       "    <tr>\n",
       "      <th>2</th>\n",
       "      <td>2024-08-01</td>\n",
       "      <td>L2A_MASK</td>\n",
       "      <td>EMIT_L2A_MASK_001_20240521T232740_2414216_004.nc</td>\n",
       "      <td>https://data.lpdaac.earthdatacloud.nasa.gov/lp...</td>\n",
       "      <td>8</td>\n",
       "      <td>MULTIPOLYGON (((-114.7049332 34.5700073, -115....</td>\n",
       "    </tr>\n",
       "  </tbody>\n",
       "</table>\n",
       "</div>"
      ],
      "text/plain": [
       "         date        product  \\\n",
       "0  2024-08-01        L2A_RFL   \n",
       "0  2024-08-01  L2A_RFLUNCERT   \n",
       "0  2024-08-01       L2A_MASK   \n",
       "1  2024-08-01        L2A_RFL   \n",
       "1  2024-08-01  L2A_RFLUNCERT   \n",
       "1  2024-08-01       L2A_MASK   \n",
       "2  2024-08-01        L2A_RFL   \n",
       "2  2024-08-01  L2A_RFLUNCERT   \n",
       "2  2024-08-01       L2A_MASK   \n",
       "\n",
       "                                            filename  \\\n",
       "0    EMIT_L2A_RFL_001_20240521T232716_2414216_002.nc   \n",
       "0  EMIT_L2A_RFLUNCERT_001_20240521T232716_2414216...   \n",
       "0   EMIT_L2A_MASK_001_20240521T232716_2414216_002.nc   \n",
       "1    EMIT_L2A_RFL_001_20240521T232728_2414216_003.nc   \n",
       "1  EMIT_L2A_RFLUNCERT_001_20240521T232728_2414216...   \n",
       "1   EMIT_L2A_MASK_001_20240521T232728_2414216_003.nc   \n",
       "2    EMIT_L2A_RFL_001_20240521T232740_2414216_004.nc   \n",
       "2  EMIT_L2A_RFLUNCERT_001_20240521T232740_2414216...   \n",
       "2   EMIT_L2A_MASK_001_20240521T232740_2414216_004.nc   \n",
       "\n",
       "                                                 URL cloud_percent  \\\n",
       "0  https://data.lpdaac.earthdatacloud.nasa.gov/lp...            30   \n",
       "0  https://data.lpdaac.earthdatacloud.nasa.gov/lp...            30   \n",
       "0  https://data.lpdaac.earthdatacloud.nasa.gov/lp...            30   \n",
       "1  https://data.lpdaac.earthdatacloud.nasa.gov/lp...            20   \n",
       "1  https://data.lpdaac.earthdatacloud.nasa.gov/lp...            20   \n",
       "1  https://data.lpdaac.earthdatacloud.nasa.gov/lp...            20   \n",
       "2  https://data.lpdaac.earthdatacloud.nasa.gov/lp...             8   \n",
       "2  https://data.lpdaac.earthdatacloud.nasa.gov/lp...             8   \n",
       "2  https://data.lpdaac.earthdatacloud.nasa.gov/lp...             8   \n",
       "\n",
       "                                            geometry  \n",
       "0  MULTIPOLYGON (((-115.9862595 33.5352974, -116....  \n",
       "0  MULTIPOLYGON (((-115.9862595 33.5352974, -116....  \n",
       "0  MULTIPOLYGON (((-115.9862595 33.5352974, -116....  \n",
       "1  MULTIPOLYGON (((-115.3462372 34.0547523, -116....  \n",
       "1  MULTIPOLYGON (((-115.3462372 34.0547523, -116....  \n",
       "1  MULTIPOLYGON (((-115.3462372 34.0547523, -116....  \n",
       "2  MULTIPOLYGON (((-114.7049332 34.5700073, -115....  \n",
       "2  MULTIPOLYGON (((-114.7049332 34.5700073, -115....  \n",
       "2  MULTIPOLYGON (((-114.7049332 34.5700073, -115....  "
      ]
     },
     "execution_count": 6,
     "metadata": {},
     "output_type": "execute_result"
    }
   ],
   "source": [
    "search_EMIT_L2A_reflectance(start_date, end_date, polygon)"
   ]
  },
  {
   "cell_type": "code",
   "execution_count": null,
   "metadata": {},
   "outputs": [],
   "source": []
  }
 ],
 "metadata": {
  "kernelspec": {
   "display_name": "Python 3 (ipykernel)",
   "language": "python",
   "name": "python3"
  },
  "language_info": {
   "codemirror_mode": {
    "name": "ipython",
    "version": 3
   },
   "file_extension": ".py",
   "mimetype": "text/x-python",
   "name": "python",
   "nbconvert_exporter": "python",
   "pygments_lexer": "ipython3",
   "version": "3.11.9"
  },
  "vscode": {
   "interpreter": {
    "hash": "3292b2aceff7d39327a7519422d4180a7c9b133202090f26e797e3dd8f2c7877"
   }
  }
 },
 "nbformat": 4,
 "nbformat_minor": 4
}
